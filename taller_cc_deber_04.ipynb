{
  "nbformat": 4,
  "nbformat_minor": 0,
  "metadata": {
    "colab": {
      "provenance": [],
      "authorship_tag": "ABX9TyP0P21Znsfom62gzg9L7Spn",
      "include_colab_link": true
    },
    "kernelspec": {
      "name": "python3",
      "display_name": "Python 3"
    },
    "language_info": {
      "name": "python"
    }
  },
  "cells": [
    {
      "cell_type": "markdown",
      "metadata": {
        "id": "view-in-github",
        "colab_type": "text"
      },
      "source": [
        "<a href=\"https://colab.research.google.com/github/eli576/Other/blob/main/taller_cc_deber_04.ipynb\" target=\"_parent\"><img src=\"https://colab.research.google.com/assets/colab-badge.svg\" alt=\"Open In Colab\"/></a>"
      ]
    },
    {
      "cell_type": "code",
      "execution_count": null,
      "metadata": {
        "id": "DaLyU-PUKgqw"
      },
      "outputs": [],
      "source": [
        "#Escribir un programa que transforme un número entero desde cualquiera de las bases 2, 3, 4, 5, 6, 7, 10 o 16 hacia cualquier otra de esas mismas bases.\n",
        "\n"
      ]
    },
    {
      "cell_type": "code",
      "source": [
        "while True:\n",
        "    numero_original_str = input(\"Ingresa un número: \").upper()\n",
        "    base_original = int(input(\"En qué base es el número que ingresaste? (2, 3, 4, 5, 6, 7, 10 o 16): \"))\n",
        "\n",
        "\n",
        "    #El número entero puede ser positivo o negativo.\n",
        "    if numero_original_str[0] == \"-\":\n",
        "        numero_negativo = True\n",
        "        numero_original = numero_original_str[1:]\n",
        "    else:\n",
        "        numero_negativo = False\n",
        "        numero_original = numero_original_str\n",
        "\n",
        "\n",
        "    # Validación de digitos\n",
        "    valido = True\n",
        "    for i in numero_original:\n",
        "        if '0' <= i <= '9':\n",
        "            digito = int(i)\n",
        "        else:\n",
        "            digito = ord(i) - ord('A') + 10\n",
        "\n",
        "        if digito >= base_original:\n",
        "            valido = False\n",
        "            break\n",
        "\n",
        "    if valido:\n",
        "        break\n",
        "    else:\n",
        "        print(f\"Error: el número {numero_original_str} no es válido en la base {base_original}. Intenta otra vez.\")\n",
        "\n",
        "\n",
        "#Si el número ingresado no está en base 10, conviértalo primero a base 10\n",
        "if base_original != 10:\n",
        "\n",
        "  numero_base_10 = 0\n",
        "  potencia = 0\n",
        "\n",
        "  #iteracion del string en orden reverso para el cambio de base\n",
        "  for i in reversed(numero_original):\n",
        "\n",
        "  #cambio de digitos de str a int\n",
        "    if '0' <= i <= '9':\n",
        "      digito = int(i)\n",
        "    else:\n",
        "      digito = ord(i) - ord('A') + 10\n",
        "\n",
        "    #cambio a base 10\n",
        "    numero_base_10 = numero_base_10 + (digito * (base_original ** potencia))\n",
        "    potencia = potencia + 1\n",
        "\n",
        "  if numero_negativo == True:\n",
        "    numero_base_10 = -(numero_base_10)\n",
        "\n",
        "  print(f\"El {numero_original_str} en base {base_original} tiene el valor de {numero_base_10} en base 10.\")\n",
        "\n",
        "#else:\n",
        "  #numero_base_10 = numero_original\n",
        "\n",
        "#Cuando la conversión involucre la base 2 (hacia o desde las otras bases mencionadas), y se requiera representar enteros con signo, utilice complemento a dos.\n",
        "#En ese caso, solicite al usuario el número de bits de la representación.\n",
        "\n",
        "\n",
        "#if base_original == 2:\n",
        "  #bits = int(input(\"Que numero de bits tiene la numero ingresada?: \"))\n",
        "\n",
        "#Valide que el número de bits elegido haga posible la representación en complemento a dos.\n",
        "#Si no es posible, indique el error y pida otro valor de el número de bits\n",
        "\n",
        "#if base_nuevo == 2:\n",
        "  #bits = int(input(\"En que numero de bits quieres tener la numero representada?: \"))\n",
        "\n",
        "\n",
        "\n",
        "#luego conviertalo a la base de destino seleccionada.\n",
        "\n",
        "\n",
        "\n"
      ],
      "metadata": {
        "colab": {
          "base_uri": "https://localhost:8080/"
        },
        "id": "iabGGNVnZkv3",
        "outputId": "df6967ff-b1e7-413c-f7d2-82668eea3cf1"
      },
      "execution_count": 9,
      "outputs": [
        {
          "output_type": "stream",
          "name": "stdout",
          "text": [
            "Ingresa un número: 231\n",
            "En qué base es el número que ingresaste? (2, 3, 4, 5, 6, 7, 10 o 16): 4\n",
            "El 231 en base 4 tiene el valor de 45 en base 10.\n"
          ]
        }
      ]
    },
    {
      "cell_type": "code",
      "source": [
        ""
      ],
      "metadata": {
        "id": "4c6PjplyTEW2"
      },
      "execution_count": null,
      "outputs": []
    }
  ]
}