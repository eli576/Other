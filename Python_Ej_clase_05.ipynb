{
  "nbformat": 4,
  "nbformat_minor": 0,
  "metadata": {
    "colab": {
      "provenance": [],
      "authorship_tag": "ABX9TyMMWhGpE+U7dFfh6xxOvF+B",
      "include_colab_link": true
    },
    "kernelspec": {
      "name": "python3",
      "display_name": "Python 3"
    },
    "language_info": {
      "name": "python"
    }
  },
  "cells": [
    {
      "cell_type": "markdown",
      "metadata": {
        "id": "view-in-github",
        "colab_type": "text"
      },
      "source": [
        "<a href=\"https://colab.research.google.com/github/eli576/Other/blob/main/Python_Ej_clase_05.ipynb\" target=\"_parent\"><img src=\"https://colab.research.google.com/assets/colab-badge.svg\" alt=\"Open In Colab\"/></a>"
      ]
    },
    {
      "cell_type": "code",
      "execution_count": 2,
      "metadata": {
        "colab": {
          "base_uri": "https://localhost:8080/"
        },
        "id": "0Wwd3RVpDtGB",
        "outputId": "0f66002e-c0a1-4376-c0f9-5fd9f9b4d9f0"
      },
      "outputs": [
        {
          "output_type": "stream",
          "name": "stdout",
          "text": [
            "1\n",
            "2\n",
            "3\n",
            "4\n",
            "5\n",
            "6\n",
            "7\n",
            "8\n",
            "9\n",
            "10\n"
          ]
        }
      ],
      "source": [
        "contador =1\n",
        "while contador <= 10:\n",
        "  print(contador)\n",
        "  contador += 1"
      ]
    },
    {
      "cell_type": "code",
      "source": [
        "for i in range(1,11):\n",
        "  print(\"Hola\"*i)"
      ],
      "metadata": {
        "colab": {
          "base_uri": "https://localhost:8080/"
        },
        "id": "Vah0YgskGths",
        "outputId": "3ab35d6c-bc02-4c01-e002-f697e364333a"
      },
      "execution_count": 4,
      "outputs": [
        {
          "output_type": "stream",
          "name": "stdout",
          "text": [
            "Hola\n",
            "HolaHola\n",
            "HolaHolaHola\n",
            "HolaHolaHolaHola\n",
            "HolaHolaHolaHolaHola\n",
            "HolaHolaHolaHolaHolaHola\n",
            "HolaHolaHolaHolaHolaHolaHola\n",
            "HolaHolaHolaHolaHolaHolaHolaHola\n",
            "HolaHolaHolaHolaHolaHolaHolaHolaHola\n",
            "HolaHolaHolaHolaHolaHolaHolaHolaHolaHola\n"
          ]
        }
      ]
    },
    {
      "cell_type": "code",
      "source": [
        "contador = 10\n",
        "while contador > 0:\n",
        "  print(contador)\n",
        "  contador -= 1"
      ],
      "metadata": {
        "colab": {
          "base_uri": "https://localhost:8080/"
        },
        "id": "VNInatwuFm8H",
        "outputId": "6d75e948-4ac6-45bc-8460-4b355aa45297"
      },
      "execution_count": 3,
      "outputs": [
        {
          "output_type": "stream",
          "name": "stdout",
          "text": [
            "10\n",
            "9\n",
            "8\n",
            "7\n",
            "6\n",
            "5\n",
            "4\n",
            "3\n",
            "2\n",
            "1\n"
          ]
        }
      ]
    },
    {
      "cell_type": "code",
      "source": [
        "for x in range (10,0,-1):\n",
        "  print(x)"
      ],
      "metadata": {
        "colab": {
          "base_uri": "https://localhost:8080/"
        },
        "id": "zBEBtL5rHmmv",
        "outputId": "c910d49e-44c0-48f9-9101-023e9f755d8f"
      },
      "execution_count": 7,
      "outputs": [
        {
          "output_type": "stream",
          "name": "stdout",
          "text": [
            "10\n",
            "9\n",
            "8\n",
            "7\n",
            "6\n",
            "5\n",
            "4\n",
            "3\n",
            "2\n",
            "1\n"
          ]
        }
      ]
    },
    {
      "cell_type": "code",
      "source": [
        "suma = 0\n",
        "numero  = 0\n",
        "while numero >= 0:\n",
        "  numero = int(input(\"Ingresa un numero: \"))\n",
        "  suma = suma + numero\n",
        "#print(suma)\n",
        "print(suma-numero) #porque tambien suma el negativo que ingreso/ despues el loop breaks"
      ],
      "metadata": {
        "colab": {
          "base_uri": "https://localhost:8080/",
          "height": 356
        },
        "id": "_t0M9LGjH6KC",
        "outputId": "b212e59f-3c35-4351-dafe-95bd6cef7a6c"
      },
      "execution_count": 33,
      "outputs": [
        {
          "output_type": "error",
          "ename": "KeyboardInterrupt",
          "evalue": "Interrupted by user",
          "traceback": [
            "\u001b[0;31m---------------------------------------------------------------------------\u001b[0m",
            "\u001b[0;31mKeyboardInterrupt\u001b[0m                         Traceback (most recent call last)",
            "\u001b[0;32m/tmp/ipython-input-818014161.py\u001b[0m in \u001b[0;36m<cell line: 0>\u001b[0;34m()\u001b[0m\n\u001b[1;32m      2\u001b[0m \u001b[0mnumero\u001b[0m  \u001b[0;34m=\u001b[0m \u001b[0;36m0\u001b[0m\u001b[0;34m\u001b[0m\u001b[0;34m\u001b[0m\u001b[0m\n\u001b[1;32m      3\u001b[0m \u001b[0;32mwhile\u001b[0m \u001b[0mnumero\u001b[0m \u001b[0;34m>=\u001b[0m \u001b[0;36m0\u001b[0m\u001b[0;34m:\u001b[0m\u001b[0;34m\u001b[0m\u001b[0;34m\u001b[0m\u001b[0m\n\u001b[0;32m----> 4\u001b[0;31m   \u001b[0mnumero\u001b[0m \u001b[0;34m=\u001b[0m \u001b[0mint\u001b[0m\u001b[0;34m(\u001b[0m\u001b[0minput\u001b[0m\u001b[0;34m(\u001b[0m\u001b[0;34m\"Ingresa un numero: \"\u001b[0m\u001b[0;34m)\u001b[0m\u001b[0;34m)\u001b[0m\u001b[0;34m\u001b[0m\u001b[0;34m\u001b[0m\u001b[0m\n\u001b[0m\u001b[1;32m      5\u001b[0m   \u001b[0msuma\u001b[0m \u001b[0;34m=\u001b[0m \u001b[0msuma\u001b[0m \u001b[0;34m+\u001b[0m \u001b[0mnumero\u001b[0m\u001b[0;34m\u001b[0m\u001b[0;34m\u001b[0m\u001b[0m\n\u001b[1;32m      6\u001b[0m \u001b[0;31m#print(suma)\u001b[0m\u001b[0;34m\u001b[0m\u001b[0;34m\u001b[0m\u001b[0m\n",
            "\u001b[0;32m/usr/local/lib/python3.12/dist-packages/ipykernel/kernelbase.py\u001b[0m in \u001b[0;36mraw_input\u001b[0;34m(self, prompt)\u001b[0m\n\u001b[1;32m   1175\u001b[0m                 \u001b[0;34m\"raw_input was called, but this frontend does not support input requests.\"\u001b[0m\u001b[0;34m\u001b[0m\u001b[0;34m\u001b[0m\u001b[0m\n\u001b[1;32m   1176\u001b[0m             )\n\u001b[0;32m-> 1177\u001b[0;31m         return self._input_request(\n\u001b[0m\u001b[1;32m   1178\u001b[0m             \u001b[0mstr\u001b[0m\u001b[0;34m(\u001b[0m\u001b[0mprompt\u001b[0m\u001b[0;34m)\u001b[0m\u001b[0;34m,\u001b[0m\u001b[0;34m\u001b[0m\u001b[0;34m\u001b[0m\u001b[0m\n\u001b[1;32m   1179\u001b[0m             \u001b[0mself\u001b[0m\u001b[0;34m.\u001b[0m\u001b[0m_parent_ident\u001b[0m\u001b[0;34m[\u001b[0m\u001b[0;34m\"shell\"\u001b[0m\u001b[0;34m]\u001b[0m\u001b[0;34m,\u001b[0m\u001b[0;34m\u001b[0m\u001b[0;34m\u001b[0m\u001b[0m\n",
            "\u001b[0;32m/usr/local/lib/python3.12/dist-packages/ipykernel/kernelbase.py\u001b[0m in \u001b[0;36m_input_request\u001b[0;34m(self, prompt, ident, parent, password)\u001b[0m\n\u001b[1;32m   1217\u001b[0m             \u001b[0;32mexcept\u001b[0m \u001b[0mKeyboardInterrupt\u001b[0m\u001b[0;34m:\u001b[0m\u001b[0;34m\u001b[0m\u001b[0;34m\u001b[0m\u001b[0m\n\u001b[1;32m   1218\u001b[0m                 \u001b[0;31m# re-raise KeyboardInterrupt, to truncate traceback\u001b[0m\u001b[0;34m\u001b[0m\u001b[0;34m\u001b[0m\u001b[0m\n\u001b[0;32m-> 1219\u001b[0;31m                 \u001b[0;32mraise\u001b[0m \u001b[0mKeyboardInterrupt\u001b[0m\u001b[0;34m(\u001b[0m\u001b[0;34m\"Interrupted by user\"\u001b[0m\u001b[0;34m)\u001b[0m \u001b[0;32mfrom\u001b[0m \u001b[0;32mNone\u001b[0m\u001b[0;34m\u001b[0m\u001b[0;34m\u001b[0m\u001b[0m\n\u001b[0m\u001b[1;32m   1220\u001b[0m             \u001b[0;32mexcept\u001b[0m \u001b[0mException\u001b[0m\u001b[0;34m:\u001b[0m\u001b[0;34m\u001b[0m\u001b[0;34m\u001b[0m\u001b[0m\n\u001b[1;32m   1221\u001b[0m                 \u001b[0mself\u001b[0m\u001b[0;34m.\u001b[0m\u001b[0mlog\u001b[0m\u001b[0;34m.\u001b[0m\u001b[0mwarning\u001b[0m\u001b[0;34m(\u001b[0m\u001b[0;34m\"Invalid Message:\"\u001b[0m\u001b[0;34m,\u001b[0m \u001b[0mexc_info\u001b[0m\u001b[0;34m=\u001b[0m\u001b[0;32mTrue\u001b[0m\u001b[0;34m)\u001b[0m\u001b[0;34m\u001b[0m\u001b[0;34m\u001b[0m\u001b[0m\n",
            "\u001b[0;31mKeyboardInterrupt\u001b[0m: Interrupted by user"
          ]
        }
      ]
    },
    {
      "cell_type": "code",
      "source": [
        "suma = 0\n",
        "numero  = 0\n",
        "while True:\n",
        "  numero = int(input(\"Ingresa un numero: \"))\n",
        "  if numero >= 0:\n",
        "    suma = suma + numero\n",
        "  else:\n",
        "    break\n",
        "print(suma)"
      ],
      "metadata": {
        "colab": {
          "base_uri": "https://localhost:8080/"
        },
        "id": "Zy2H619QKbt4",
        "outputId": "c2240648-77ba-421a-fa68-52651fba9f49"
      },
      "execution_count": 35,
      "outputs": [
        {
          "output_type": "stream",
          "name": "stdout",
          "text": [
            "Ingresa un numero: 9\n",
            "Ingresa un numero: 1\n",
            "Ingresa un numero: -1\n",
            "10\n"
          ]
        }
      ]
    },
    {
      "cell_type": "code",
      "source": [
        "contrasena_correcta = \"password\"\n",
        "contrasena_usuario = []\n",
        "\n",
        "while contrasena_usuario != contrasena_correcta:\n",
        "  contrasena_usuario = str(input(\"Ingresa la contrasena: \"))\n",
        "  if contrasena_usuario != contrasena_correcta: # Only print if the password is incorrect\n",
        "    print(\"Contrasena incorrecta, intentalo de nuevo\")\n",
        "print(\"Contrasena correcta!\")"
      ],
      "metadata": {
        "colab": {
          "base_uri": "https://localhost:8080/"
        },
        "id": "hmaMtkLvKruz",
        "outputId": "8d5ca06b-0511-4882-ae7b-6b13c7cea649"
      },
      "execution_count": 42,
      "outputs": [
        {
          "output_type": "stream",
          "name": "stdout",
          "text": [
            "Ingresa la contrasena: password\n",
            "Contrasena correcta!\n"
          ]
        }
      ]
    },
    {
      "cell_type": "code",
      "source": [
        "contrasena_correcta = \"password\"\n",
        "contrasena_usuario = []\n",
        "\n",
        "for intento in range(0,3):\n",
        "  contrasena_usuario = str(input(f\"Ingresa la contrasena: \"))\n",
        "  if contrasena_usuario == contrasena_correcta:\n",
        "    print(\"Contrasena correcta!\")\n",
        "    break\n",
        "  else:\n",
        "    print(\"Contrasena incorrecta, intentalo de nuevo\")\n",
        "print(\"Has excedido el numero de intentos.\")"
      ],
      "metadata": {
        "colab": {
          "base_uri": "https://localhost:8080/"
        },
        "id": "B30V9LXCLtSs",
        "outputId": "d24c3e7a-8946-44e7-faff-984149146d8c"
      },
      "execution_count": 50,
      "outputs": [
        {
          "output_type": "stream",
          "name": "stdout",
          "text": [
            "Ingresa la contrasena: p\n",
            "Contrasena incorrecta, intentalo de nuevo\n",
            "Ingresa la contrasena: password\n",
            "Contrasena correcta!\n",
            "Has excedido el numero de intentos.\n"
          ]
        }
      ]
    },
    {
      "cell_type": "code",
      "source": [
        "pass_correct = \"password\"\n",
        "pass_user = \"\"\n",
        "intentos = 3\n",
        "while pass_user != pass_correct and intentos >0:\n",
        "  pass_user = (\"Ingresa un password\")\n",
        "  if pass_user == pass_correct:\n",
        "    print(\"bienvenidos\")\n",
        "  else:\n",
        "    print(\"intentalo de nuevo\")\n",
        "    intentos = intentos -1\n",
        "    if intentos == 0:\n",
        "      print (\"no\")"
      ],
      "metadata": {
        "colab": {
          "base_uri": "https://localhost:8080/",
          "height": 106
        },
        "id": "Cg2sTtLSOEfg",
        "outputId": "be7e7aa8-c4cb-44c0-ee4e-594c0a16d364"
      },
      "execution_count": 51,
      "outputs": [
        {
          "output_type": "error",
          "ename": "SyntaxError",
          "evalue": "incomplete input (ipython-input-3377958419.py, line 4)",
          "traceback": [
            "\u001b[0;36m  File \u001b[0;32m\"/tmp/ipython-input-3377958419.py\"\u001b[0;36m, line \u001b[0;32m4\u001b[0m\n\u001b[0;31m    while pass_user != pass_correct and intentos >0:\u001b[0m\n\u001b[0m                                                    ^\u001b[0m\n\u001b[0;31mSyntaxError\u001b[0m\u001b[0;31m:\u001b[0m incomplete input\n"
          ]
        }
      ]
    },
    {
      "cell_type": "code",
      "source": [
        "pass_correct = \"password\"\n",
        "pass_user = \"\"\n",
        "intentos = 3\n",
        "while True:\n",
        "  pass_user = (\"Ingresa un password\")\n",
        "  if pass_user == pass_correct:\n",
        "    print(\"bienvenidos\")\n",
        "    break\n",
        "  else:\n",
        "    print(\"intentalo de nuevo\")\n",
        "    intentos = intentos -1\n",
        "    if intentos == 0:\n",
        "      print (\"no\")\n",
        "      break"
      ],
      "metadata": {
        "id": "uvBB41nGOvLw"
      },
      "execution_count": null,
      "outputs": []
    },
    {
      "cell_type": "code",
      "source": [
        "num = 7\n",
        "num_usuario = []\n",
        "while num_usuario != num:\n",
        "  num_usuario = int(input(\"Adivina el numero: \"))\n",
        "  if num_usuario > num:\n",
        "    print(\"El numero es menor que eso\")\n",
        "  elif num_usuario < num:\n",
        "    print(\"El numero es mayor que eso\")\n",
        "print(\"Adivinaste!\")"
      ],
      "metadata": {
        "colab": {
          "base_uri": "https://localhost:8080/"
        },
        "id": "Y2ULHoRjOSwN",
        "outputId": "8ba0ca3e-ff0b-4e11-891a-5e7d526637b5"
      },
      "execution_count": 55,
      "outputs": [
        {
          "output_type": "stream",
          "name": "stdout",
          "text": [
            "adivina el numero: 3\n",
            "El numero es mayor que eso\n",
            "adivina el numero: 4\n",
            "El numero es mayor que eso\n",
            "adivina el numero: 5\n",
            "El numero es mayor que eso\n",
            "adivina el numero: 6\n",
            "El numero es mayor que eso\n",
            "adivina el numero: 7\n",
            "Felicitatciones!\n"
          ]
        }
      ]
    },
    {
      "cell_type": "code",
      "source": [
        "#tabla de multiplicacion\n",
        "numero = int(input(\"ingresa un numero: \"))\n",
        "\n",
        "for x in range(1,11):\n",
        "  multi = numero*x\n",
        "  print(f\"{numero} * {x} = {multi}\")"
      ],
      "metadata": {
        "colab": {
          "base_uri": "https://localhost:8080/"
        },
        "id": "MzpF4QDnPKpP",
        "outputId": "fa576d6d-dd2c-4e5f-bd5f-50905bae9d9e"
      },
      "execution_count": 65,
      "outputs": [
        {
          "output_type": "stream",
          "name": "stdout",
          "text": [
            "ingresa un numero: 9\n",
            "9 * 1 = 9\n",
            "9 * 2 = 18\n",
            "9 * 3 = 27\n",
            "9 * 4 = 36\n",
            "9 * 5 = 45\n",
            "9 * 6 = 54\n",
            "9 * 7 = 63\n",
            "9 * 8 = 72\n",
            "9 * 9 = 81\n",
            "9 * 10 = 90\n"
          ]
        }
      ]
    },
    {
      "cell_type": "code",
      "source": [
        "frase = str(input(\"Ingresa una frase: \")).lower()\n",
        "vocales = 0\n",
        "\n",
        "for x in frase:\n",
        "  if x == \"a\" or x == \"e\" or x == \"i\" or x == \"o\" or x == \"u\":\n",
        "    vocales = vocales + 1\n",
        "\n",
        "print(\"Numero de vocales = \", vocales)"
      ],
      "metadata": {
        "colab": {
          "base_uri": "https://localhost:8080/"
        },
        "id": "YtjbFNj7RHiR",
        "outputId": "e75075b4-758d-4992-867c-b6b43e77de26"
      },
      "execution_count": 71,
      "outputs": [
        {
          "output_type": "stream",
          "name": "stdout",
          "text": [
            "Ingresa una frase: hola como estas\n",
            "Numero de vocales =  6\n"
          ]
        }
      ]
    },
    {
      "cell_type": "code",
      "source": [
        "#el while puede mover por dos listas a una vez, for solo por una lista"
      ],
      "metadata": {
        "id": "iZ8kPOntVIJZ"
      },
      "execution_count": null,
      "outputs": []
    }
  ]
}