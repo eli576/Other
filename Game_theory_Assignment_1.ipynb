{
  "nbformat": 4,
  "nbformat_minor": 0,
  "metadata": {
    "colab": {
      "provenance": [],
      "authorship_tag": "ABX9TyNZTmIu2+2BKgqDapGNo2Lr",
      "include_colab_link": true
    },
    "kernelspec": {
      "name": "python3",
      "display_name": "Python 3"
    },
    "language_info": {
      "name": "python"
    }
  },
  "cells": [
    {
      "cell_type": "markdown",
      "metadata": {
        "id": "view-in-github",
        "colab_type": "text"
      },
      "source": [
        "<a href=\"https://colab.research.google.com/github/eli576/Other/blob/main/Game_theory_Assignment_1.ipynb\" target=\"_parent\"><img src=\"https://colab.research.google.com/assets/colab-badge.svg\" alt=\"Open In Colab\"/></a>"
      ]
    },
    {
      "cell_type": "code",
      "execution_count": 1,
      "metadata": {
        "id": "m49QQ7jKDYpn"
      },
      "outputs": [],
      "source": [
        "import numpy as np\n",
        "import matplotlib.pyplot as plt"
      ]
    },
    {
      "cell_type": "code",
      "source": [
        "# Create the plot\n",
        "plt.figure(figsize=(6, 6))  # Adjust figure size if needed\n",
        "\n",
        "# Set axis limits\n",
        "plt.xlim(0, 1)\n",
        "plt.ylim(0, 1)\n",
        "\n",
        "# Plot horizontal line at y = 0.5\n",
        "plt.axhline(y=0.5, color='red', label='y = 0.5')\n",
        "\n",
        "# Plot vertical line at x = 0.25\n",
        "plt.axvline(x=0.25, color='blue', label='x = 0.25')\n",
        "\n",
        "# Add labels and title (optional)\n",
        "# plt.xlabel(\"X-axis\")\n",
        "# plt.ylabel(\"Y-axis\")\n",
        "# plt.title(\"Horizontal and Vertical Lines\")\n",
        "\n",
        "# Add legend (optional)\n",
        "plt.legend()\n",
        "\n",
        "# Show the plot"
      ],
      "metadata": {
        "colab": {
          "base_uri": "https://localhost:8080/",
          "height": 545
        },
        "id": "RjBBVn1-H8pi",
        "outputId": "65296e05-6fe7-4d19-e12f-494299d44cfa"
      },
      "execution_count": 19,
      "outputs": [
        {
          "output_type": "execute_result",
          "data": {
            "text/plain": [
              "<matplotlib.legend.Legend at 0x7cb8e168e4d0>"
            ]
          },
          "metadata": {},
          "execution_count": 19
        },
        {
          "output_type": "display_data",
          "data": {
            "text/plain": [
              "<Figure size 600x600 with 1 Axes>"
            ],
            "image/png": "[encoded data removed]"
          },
          "metadata": {}
        }
      ]
    },
    {
      "cell_type": "code",
      "source": [
        "\n",
        "\n",
        "# Create the plot\n",
        "plt.figure(figsize=(3, 3))\n",
        "\n",
        "#set axis limits\n",
        "plt.xlim(0, 1)\n",
        "plt.ylim(0, 1)\n",
        "\n",
        "# Best response for Germany (q-axis): If p >= 1/4, q = 1; otherwise q = 0\n",
        "plt.plot([1/4, 1/4], [0, 1], color='blue', label=r\"Germany's Best Response\", linewidth=2)\n",
        "\n",
        "# Best response for EU (p-axis): If q >= 1/2, p = 1; otherwise p = 0\n",
        "plt.plot([0, 1], [1/2, 1/2], color='red', label=r\"EU's Best Response\", linewidth=2)\n",
        "\n",
        "plt.plot([0, 1/4], [0, 0], color='blue', linewidth=4)  # q = 0 for p < 1/4\n",
        "plt.plot([1/4, 1], [1, 1], color='blue', linewidth=4)  # q = 1 for p >= 1/4\n",
        "\n",
        "\n",
        "# Draw vertical lines for EU's actions before and after best response\n",
        "plt.plot([0, 0], [0, 1/2], color='red', linewidth=4)  # p = 0 for q < 1/2\n",
        "plt.plot([1, 1], [1/2, 1], color='red', linewidth=4)\n",
        "\n",
        "# Add labels\n",
        "plt.xlabel(r'$p$')\n",
        "plt.ylabel(r'$q$')\n",
        "plt.title(\"Best Response Functions\", fontsize=10)\n",
        "\n",
        "\n",
        "plt.xticks([0, 0.25, 1], ['0', '0.25', '1'])\n",
        "plt.yticks([0, 0.5, 1], ['0', '0.5', '1'])\n",
        "\n",
        "\n",
        "\n",
        "plt.show()"
      ],
      "metadata": {
        "colab": {
          "base_uri": "https://localhost:8080/",
          "height": 331
        },
        "id": "n98Uzm8DGLwD",
        "outputId": "18f028ff-9612-43bc-95a9-2513d39a173b"
      },
      "execution_count": 35,
      "outputs": [
        {
          "output_type": "display_data",
          "data": {
            "text/plain": [
              "<Figure size 300x300 with 1 Axes>"
            ],
            "image/png": "[encoded data removed]"
          },
          "metadata": {}
        }
      ]
    },
    {
      "cell_type": "code",
      "source": [],
      "metadata": {
        "id": "f0F0zcPzKe2q"
      },
      "execution_count": null,
      "outputs": []
    }
  ]
}