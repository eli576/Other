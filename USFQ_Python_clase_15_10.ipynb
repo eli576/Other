{
  "nbformat": 4,
  "nbformat_minor": 0,
  "metadata": {
    "colab": {
      "provenance": [],
      "authorship_tag": "ABX9TyPuWBiqbPAuDg9j3kF36g1C",
      "include_colab_link": true
    },
    "kernelspec": {
      "name": "python3",
      "display_name": "Python 3"
    },
    "language_info": {
      "name": "python"
    }
  },
  "cells": [
    {
      "cell_type": "markdown",
      "metadata": {
        "id": "view-in-github",
        "colab_type": "text"
      },
      "source": [
        "<a href=\"https://colab.research.google.com/github/eli576/Other/blob/main/USFQ_Python_clase_15_10.ipynb\" target=\"_parent\"><img src=\"https://colab.research.google.com/assets/colab-badge.svg\" alt=\"Open In Colab\"/></a>"
      ]
    },
    {
      "cell_type": "code",
      "execution_count": null,
      "metadata": {
        "colab": {
          "base_uri": "https://localhost:8080/"
        },
        "id": "qRLgEvUJmBRu",
        "outputId": "fc9dafce-8ecc-4708-fa8a-3cccd253235f"
      },
      "outputs": [
        {
          "output_type": "stream",
          "name": "stdout",
          "text": [
            "La suma de los numeros impares es:  2500\n"
          ]
        }
      ],
      "source": [
        "total = 0\n",
        "for i in range(1,101):\n",
        "  if i%2 != 0:\n",
        "    total += i\n",
        "    #total = total + i\n",
        "print(\"La suma de los numeros impares es: \", total)"
      ]
    },
    {
      "cell_type": "code",
      "source": [
        "import math\n",
        "\n",
        "n = int(input(\"Ingresa un numero n: \"))\n",
        "m = int(input(\"Ingresa un numero m: \"))\n",
        "\n",
        "suma_k = 0\n",
        "for k in range (0, n+1):\n",
        "  suma_i = 0\n",
        "  for i in range (0, m+1):\n",
        "    suma_i += (((-k)**i)/(math.factorial(i)))\n",
        "    #elevado son ** no ^\n",
        "  suma_k += suma_i\n",
        "\n",
        "print(suma_k)\n"
      ],
      "metadata": {
        "colab": {
          "base_uri": "https://localhost:8080/"
        },
        "id": "OfIAD2ZlruMJ",
        "outputId": "7d9a5870-85a1-414e-d9bb-a4b088d46c2b"
      },
      "execution_count": 19,
      "outputs": [
        {
          "output_type": "stream",
          "name": "stdout",
          "text": [
            "Ingresa un numero n: 10\n",
            "Ingresa un numero m: 50\n",
            "1.5819502851672698\n"
          ]
        }
      ]
    },
    {
      "cell_type": "code",
      "source": [
        "n = int(input(\"Ingresa un numero n: \"))\n",
        "\n",
        "factorial = 1\n",
        "for i in range (1, n+1):\n",
        "  factorial = factorial * i\n",
        "print (factorial)\n"
      ],
      "metadata": {
        "colab": {
          "base_uri": "https://localhost:8080/"
        },
        "id": "4YWdK-M-wDe8",
        "outputId": "af60485f-9b88-4dcc-e2af-3c8030507fb2"
      },
      "execution_count": 34,
      "outputs": [
        {
          "output_type": "stream",
          "name": "stdout",
          "text": [
            "Ingresa un numero n: 5\n",
            "120\n"
          ]
        }
      ]
    },
    {
      "cell_type": "code",
      "source": [
        "n = int(input(\"Ingresa un numero n: \"))\n",
        "\n",
        "for i in range(1, n+1):\n",
        "  if i%7 == 0:\n",
        "    print(\"PUM\")\n",
        "  elif '7' in str(i):\n",
        "    print(\"PUM\")\n",
        "  else:\n",
        "    print(i)"
      ],
      "metadata": {
        "colab": {
          "base_uri": "https://localhost:8080/"
        },
        "id": "0im4BFYdxQtB",
        "outputId": "00ade412-7582-413c-ac4f-dd3360b56e1b"
      },
      "execution_count": 50,
      "outputs": [
        {
          "output_type": "stream",
          "name": "stdout",
          "text": [
            "Ingresa un numero n: 56\n",
            "1\n",
            "2\n",
            "3\n",
            "4\n",
            "5\n",
            "6\n",
            "PUM\n",
            "8\n",
            "9\n",
            "10\n",
            "11\n",
            "12\n",
            "13\n",
            "PUM\n",
            "15\n",
            "16\n",
            "PUM\n",
            "18\n",
            "19\n",
            "20\n",
            "PUM\n",
            "22\n",
            "23\n",
            "24\n",
            "25\n",
            "26\n",
            "PUM\n",
            "PUM\n",
            "29\n",
            "30\n",
            "31\n",
            "32\n",
            "33\n",
            "34\n",
            "PUM\n",
            "36\n",
            "PUM\n",
            "38\n",
            "39\n",
            "40\n",
            "41\n",
            "PUM\n",
            "43\n",
            "44\n",
            "45\n",
            "46\n",
            "PUM\n",
            "48\n",
            "PUM\n",
            "50\n",
            "51\n",
            "52\n",
            "53\n",
            "54\n",
            "55\n",
            "PUM\n"
          ]
        }
      ]
    },
    {
      "cell_type": "code",
      "source": [
        "x = int(input(\"Ingresa la cantidad de dinero que tienes en tu cuenta de ahorros ahora: \"))\n",
        "interes = x*0.05\n",
        "balance = x\n",
        "for i in range (1,31):\n",
        "  balance = balance + interes\n",
        "  #print(balance)\n",
        "y = int(input(\"Ingresa la cantidad de dinero que añadaste: \"))\n",
        "balance = balance + y\n",
        "for i in range (1,61):\n",
        "  balance = balance + interes\n",
        "  #print(balance)\n",
        "print (f\"Tu balance despues the 90 dias es: {balance:.2f}\")\n"
      ],
      "metadata": {
        "colab": {
          "base_uri": "https://localhost:8080/"
        },
        "id": "pyyqufLyyPzx",
        "outputId": "25715e9c-3723-4ecd-b0e9-4fc1e8cbb8b4"
      },
      "execution_count": 49,
      "outputs": [
        {
          "output_type": "stream",
          "name": "stdout",
          "text": [
            "Ingresa la cantidad de dinero que tienes en tu cuenta de ahorros ahora: 10\n",
            "Ingresa la cantidad de dinero que anadaste: 5\n",
            "Tu balance despues the 90 dias es: 60.00\n"
          ]
        }
      ]
    },
    {
      "cell_type": "code",
      "source": [],
      "metadata": {
        "id": "6YDHljqDxV13"
      },
      "execution_count": null,
      "outputs": []
    }
  ]
}